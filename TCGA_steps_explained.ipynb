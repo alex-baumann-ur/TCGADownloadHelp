{
 "cells": [
  {
   "cell_type": "markdown",
   "metadata": {},
   "source": [
    "# Handling TCGA data\n",
    "### Overall goals\n",
    "- Work with TCGA data (e.g. of a specific study or primary site)\n",
    "- Downoad data (or further data after a while)\n",
    "- Only download data matching specific cases\n",
    "\n",
    "### Filtering and selecting TCGA data\n",
    "- Go to: https://portal.gdc.cancer.gov/analysis_page\n",
    "- Click on \"Repository\"\n",
    "\n",
    "<img src=\"figures/tcga_gdc_repository.png\" style=\"width:1000px; position: relative; left: 40px\">\n",
    "<p></p>\n",
    "<img src=\"figures/tcga_gdc_repository_files.png\" style=\"width:1000px; position: relative; left: 40px\">\n",
    "\n",
    "- Filter by files:\n",
    "    - Experimental strategy\n",
    "    - Data type\n",
    "    - Data format\n",
    "    - Access\n",
    "    - ...\n",
    "\n",
    "<img src=\"figures/tcga_gdc_files_filter.png\" style=\"width:300px; position: relative; left: 40px\">\n",
    "\n",
    "- Filter by cases:\n",
    "    - Primary site\n",
    "    - Disease Type\n",
    "    - Project\n",
    "    - Gender\n",
    "    - ...\n",
    "\n",
    "<img src=\"figures/tcga_gdc_cases_filter.png\" style=\"width:1000px; position: relative; left: 40px\">\n",
    "\n",
    "- Select associated files or put all relevant data into the cart\n",
    "\n",
    "<img src=\"figures/tcga_gdc_select_file_cart.png\" style=\"width:800px; position: relative; left: 40px\">\n",
    "\n",
    "- Click on the Cart symbol\n",
    "\n",
    "<img src=\"figures/tcga_gdc_cart_overview.png\" style=\"width:1000px; position: relative; left: 40px\">\n",
    "\n",
    "- Download the Sample Sheet, Metadata, Clinical: TSV data for additional information\n",
    "\n",
    "<img src=\"figures/tcga_gdc_cart_ass_data.png\" style=\"width:180px; position: relative; left: 40px\">\n",
    "\n",
    "- Download the Manifest for a data download with the gdc-client tool\n",
    "\n",
    "<img src=\"figures/tcga_gdc_cart_manifest.png\" style=\"width:120px; position: relative; left: 40px\">\n",
    "\n",
    "- Do these steps every time for your new analyses, also when you later on have new aspects or file types to consider\n",
    "\n",
    "\n",
    "### File locations for manifests and sample sheets\n",
    "- Create an analysis folder and in this folder, a \"sample_sheets\" folder with sub-folders \"clinical_data\", \"manifests\", and \"sample_sheets_prior\"\n",
    "\n",
    "<analysis_path>\n",
    "\n",
    "└── sample_sheets\n",
    "<br>\n",
    "&emsp;&emsp;├── clinical_data\n",
    "<br>\n",
    "&emsp;&emsp;├── manifests\n",
    "<br>\n",
    "&emsp;&emsp;└── sample_sheets_prior    \n",
    "\n",
    "\n",
    "\n",
    "### Combine manifest with sample sheet, filter for relevant files\n",
    "- manifest file\n",
    "\n",
    "<img src=\"figures/tcga_manifest_file_example.png\" style=\"width:1000px; position: relative; left: 40px\">\n",
    "\n",
    "- sample sheet\n",
    "\n",
    "<img src=\"figures/tcga_sample_sheet_example.png\" style=\"width:1000px; position: relative; left: 40px\">\n",
    "\n",
    "- merge manifest and sample sheet\n",
    "- if previous selection of case IDs -> filter for specific case IDs of previous analysis\n",
    "- create adapted filtered manifest file for gdc-client download\n",
    "\n",
    "### Download TCGA data via a manifest document and the GDC-client tool\n",
    "- For restricted access files:\n",
    "    - Login at NIH for restricted access files\n",
    "    - Download access token, save as secured file\n",
    "- Download gdc-client tool\n",
    "\n",
    "```\n",
    "gdc-client download -m manifest.txt -t user-token.txt\n",
    "```\n",
    "\n",
    "### Rename the downloaded files as case_id.file_suffix\n",
    "- in manifest only id, filename with 36 different characters\n",
    "- take merged manifest and sample sheet\n",
    "- rename downloaded files and put them in new folders for each analysis\n",
    "\n",
    "### Analyze files\n",
    "- with Snakemake pipeline\n"
   ]
  },
  {
   "cell_type": "markdown",
   "metadata": {},
   "source": []
  },
  {
   "cell_type": "code",
   "execution_count": 3,
   "metadata": {},
   "outputs": [
    {
     "name": "stdout",
     "output_type": "stream",
     "text": [
      "└── sample_sheets\n",
      "    ├── clinical_data\n",
      "    ├── manifests\n",
      "    └── sample_sheets_prior\n"
     ]
    }
   ],
   "source": [
    "print('└── sample_sheets')\n",
    "print('    ├── clinical_data')\n",
    "print('    ├── manifests')\n",
    "print('    └── sample_sheets_prior')"
   ]
  },
  {
   "cell_type": "markdown",
   "metadata": {},
   "source": [
    "### Download TCGA data via GDC-client"
   ]
  },
  {
   "cell_type": "code",
   "execution_count": null,
   "metadata": {},
   "outputs": [],
   "source": [
    "import pandas as pd\n",
    "import os\n",
    "import yaml\n",
    "\n",
    "with open('data/config.yaml', 'r') as streamfile:\n",
    "    config_file = yaml.load(streamfile, Loader=yaml.FullLoader)\n",
    "\n",
    "tcga_manifest = 'manifests/2024-04-08_gdc_manifest_star_counts_lusc_prior.txt'\n",
    "tcga_user_token_file = config_file['tcga_user_token_file']\n",
    "\n",
    "if tcga_user_token_file == False:\n",
    "    print(f'Download TCGA data with TCGA manifest {tcga_manifest.split(\"/\")[-1]} without TCGA user token')\n",
    "    command_download_tcga_data = f'gdc-client download -m {tcga_manifest}'\n",
    "else:\n",
    "    print(f'Download TCGA data with TCGA manifest {tcga_manifest.split(\"/\")[-1]} with TCGA user token file {tcga_user_token_file.split(\"/\")[-1]}')\n",
    "    command_download_tcga_data = f'gdc-client download -m {tcga_manifest} -t {tcga_user_token_file}'\n",
    "\n",
    "# os.system(command_download_tcga_data)\n"
   ]
  },
  {
   "cell_type": "code",
   "execution_count": null,
   "metadata": {},
   "outputs": [],
   "source": []
  }
 ],
 "metadata": {
  "kernelspec": {
   "display_name": "Plots",
   "language": "python",
   "name": "python3"
  },
  "language_info": {
   "codemirror_mode": {
    "name": "ipython",
    "version": 3
   },
   "file_extension": ".py",
   "mimetype": "text/x-python",
   "name": "python",
   "nbconvert_exporter": "python",
   "pygments_lexer": "ipython3",
   "version": "3.11.8"
  }
 },
 "nbformat": 4,
 "nbformat_minor": 2
}
