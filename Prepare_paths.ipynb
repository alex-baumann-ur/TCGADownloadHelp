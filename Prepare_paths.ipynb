{
 "cells": [
  {
   "cell_type": "markdown",
   "metadata": {},
   "source": [
    "# Handling TCGA data\n",
    "### Filtering and selecting TCGA data\n",
    "- Go to: https://portal.gdc.cancer.gov/analysis_page\n",
    "- Click on \"Repository\"\n",
    "\n",
    "<!---<center><img src=\"figures/tcga_gdc_repository.png\" style=\"width:1000px\"></center>--->\n",
    "<img src=\"figures/tcga_gdc_repository.png\" style=\"width:1000px\">\n",
    "\n",
    "- Filter for the relevant criteria\n",
    "    - By files:\n",
    "    - By cases:\n",
    "\n",
    "- Select associated files or put all relevant data into the cart\n",
    "\n",
    "- Click on the Cart symbol\n",
    "- Download the Sample Sheet, Metadata, Clinical: TSV data for additional information\n",
    "- Download the Manifest for a data download with the gdc-client tool\n",
    "\n",
    "\n",
    "### Combine file IDs and case IDs\n",
    "- in manifest only id, filename with 36 different characters\n",
    "- \n",
    "\n",
    "\n",
    "### Filter relevant files in other bigger manifest file\n",
    "- \n",
    "\n",
    "\n",
    "### Download TCGA data via a manifest document and the GDC-client tool\n",
    "- Login at NIH for restricted access files\n",
    "- Download access token, save as secured file\n",
    "- Download gdc-client tool\n",
    "\n",
    "```\n",
    "gdc-client download -m manifest.txt -t user-token.txt\n",
    "```\n",
    "\n",
    "### Rename the downloaded files as case_id.file_suffix\n",
    "- \n",
    "\n"
   ]
  },
  {
   "cell_type": "code",
   "execution_count": null,
   "metadata": {},
   "outputs": [],
   "source": []
  },
  {
   "cell_type": "code",
   "execution_count": null,
   "metadata": {},
   "outputs": [],
   "source": []
  },
  {
   "cell_type": "markdown",
   "metadata": {},
   "source": [
    "### Download TCGA data via GDC-client"
   ]
  },
  {
   "cell_type": "code",
   "execution_count": 22,
   "metadata": {},
   "outputs": [
    {
     "name": "stdout",
     "output_type": "stream",
     "text": [
      "Download TCGA data with TCGA manifest 2024-04-08_gdc_manifest_star_counts_lusc_prior.txt without TCGA user token\n"
     ]
    }
   ],
   "source": [
    "import pandas as pd\n",
    "import os\n",
    "import yaml\n",
    "\n",
    "with open('data/config.yaml', 'r') as streamfile:\n",
    "    config_file = yaml.load(streamfile, Loader=yaml.FullLoader)\n",
    "\n",
    "tcga_manifest = 'manifests/2024-04-08_gdc_manifest_star_counts_lusc_prior.txt'\n",
    "tcga_user_token_file = config_file['tcga_user_token_file']\n",
    "\n",
    "if tcga_user_token_file == False:\n",
    "    print(f'Download TCGA data with TCGA manifest {tcga_manifest.split(\"/\")[-1]} without TCGA user token')\n",
    "    command_download_tcga_data = f'gdc-client download -m {tcga_manifest}'\n",
    "else:\n",
    "    print(f'Download TCGA data with TCGA manifest {tcga_manifest.split(\"/\")[-1]} with TCGA user token file {tcga_user_token_file.split(\"/\")[-1]}')\n",
    "    command_download_tcga_data = f'gdc-client download -m {tcga_manifest} -t {tcga_user_token_file}'\n",
    "\n",
    "# os.system(command_download_tcga_data)\n"
   ]
  },
  {
   "cell_type": "code",
   "execution_count": null,
   "metadata": {},
   "outputs": [],
   "source": []
  }
 ],
 "metadata": {
  "kernelspec": {
   "display_name": "Plots",
   "language": "python",
   "name": "python3"
  },
  "language_info": {
   "codemirror_mode": {
    "name": "ipython",
    "version": 3
   },
   "file_extension": ".py",
   "mimetype": "text/x-python",
   "name": "python",
   "nbconvert_exporter": "python",
   "pygments_lexer": "ipython3",
   "version": "3.11.8"
  }
 },
 "nbformat": 4,
 "nbformat_minor": 2
}
