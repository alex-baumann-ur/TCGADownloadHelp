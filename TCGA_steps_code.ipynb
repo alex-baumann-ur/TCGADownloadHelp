{
 "cells": [
  {
   "cell_type": "markdown",
   "metadata": {},
   "source": [
    "# Handling TCGA data\n",
    "### Overall goals\n",
    "- Work with TCGA data (e.g. of a specific study or primary site)\n",
    "- Downoad data (or further data after a while)\n",
    "- Only download data matching specific cases\n",
    "\n",
    "### Filtering and selecting TCGA data\n",
    "- Filter and select TCGA data from the TCGA GDC data portal as explained in \"TCGA_steps_explained.ipynb\"\n",
    "- Do these steps every time for your new analyses, also when you later on have new aspects or file types to consider\n",
    "- Create a folder called \"sample_sheets\" in your analysis path, create the folders \"manifests\" and \"prior_sample_sheets\" in the \"sample_sheets\" folder\n",
    "\n",
    "### Combine manifest with sample sheet, filter for relevant files\n",
    "- Adapt the data/config.yaml\n",
    "- manifest files"
   ]
  },
  {
   "cell_type": "code",
   "execution_count": 26,
   "metadata": {},
   "outputs": [],
   "source": [
    "import pandas as pd\n",
    "import yaml\n",
    "import os\n",
    "\n",
    "# load config file\n",
    "with open('data/config.yaml', 'r') as streamfile:\n",
    "    config_file = yaml.load(streamfile, Loader=yaml.FullLoader)\n",
    "\n",
    "# analysis path\n",
    "analysis_path = config_file['analysis_path']\n",
    "\n",
    "# original (prior) manifest files, merge them\n",
    "manifests = [pd.read_table(analysis_path+'sample_sheets/manifests/'+i) for i in config_file['manifests_prior']]\n",
    "manifests_merge = pd.concat(manifests)\n",
    "\n",
    "# original (prior) sample sheets, merge them\n",
    "sample_sheets = [pd.read_table(analysis_path+'sample_sheets/prior_sample_sheets/'+i) for i in config_file['sample_sheets_prior']]\n",
    "sample_sheets_merge = pd.concat(sample_sheets)\n",
    "\n",
    "sample_sheets_merge['Case ID'] = sample_sheets_merge['Case ID'].str.split(', ', expand=True)[0]\n"
   ]
  },
  {
   "cell_type": "markdown",
   "metadata": {},
   "source": [
    "- merge manifest and sample sheet\n",
    "- if previous selection of case IDs -> filter for specific case IDs of previous analysis\n",
    "- create adapted filtered manifest file for gdc-client download"
   ]
  },
  {
   "cell_type": "code",
   "execution_count": 33,
   "metadata": {},
   "outputs": [],
   "source": [
    "manifests_pipeline_files = []"
   ]
  },
  {
   "cell_type": "markdown",
   "metadata": {},
   "source": [
    "Manifest for download"
   ]
  },
  {
   "cell_type": "code",
   "execution_count": 34,
   "metadata": {},
   "outputs": [],
   "source": [
    "import shlex\n",
    "import subprocess\n",
    "import yaml\n",
    "\n",
    "with open('data/config.yaml', 'r') as streamfile:\n",
    "    config_file = yaml.load(streamfile, Loader=yaml.FullLoader)\n",
    "\n",
    "# filtered manifest(s) in there, but only names in 'sample_sheets/manifests/\n",
    "if config_file['manifest_for_download'] == False:\n",
    "    manifests_pipeline = ', '.join(manifests_pipeline_files) # only file names\n",
    "    \n",
    "    manifest_file_change_cmd = f\"sed -i 's/^manifest_for_download: .*/manifest_for_download: [{manifests_pipeline}]/' data/config.yaml\"\n",
    "    subprocess.run(shlex.split(manifest_file_change_cmd))"
   ]
  },
  {
   "cell_type": "code",
   "execution_count": null,
   "metadata": {},
   "outputs": [],
   "source": []
  },
  {
   "cell_type": "markdown",
   "metadata": {},
   "source": [
    "### Download TCGA data via a manifest document and the GDC-client tool\n",
    "- For restricted access files:\n",
    "    - Login at NIH for restricted access files\n",
    "    - Download access token, save as secured file\n",
    "- Download gdc-client tool -> create conda environment named, also possible with this code here -> creates a conda environment called \"gdc_client\"\n",
    "\n"
   ]
  },
  {
   "cell_type": "markdown",
   "metadata": {},
   "source": [
    "- the files from the manifest are downloaded into the following folder: analysis_path + '00_raw_data'\n",
    "\n",
    "```\n",
    "gdc-client download -m manifest.txt -t user-token.txt\n",
    "```\n"
   ]
  },
  {
   "cell_type": "code",
   "execution_count": 106,
   "metadata": {},
   "outputs": [],
   "source": [
    "import os\n",
    "import subprocess\n",
    "import yaml\n",
    "import shlex\n",
    "\n",
    "# Read in manifest download files (either from manual input in config.yaml or from previous pipeline steps)\n",
    "def Create_Manifest_Download_List():\n",
    "    with open('data/config.yaml', 'r') as streamfile:\n",
    "        config_file = yaml.load(streamfile, Loader=yaml.FullLoader)\n",
    "    \n",
    "    manifest_download_list = config_file['manifest_for_download']\n",
    "    analysis_path = config_file['analysis_path']\n",
    "\n",
    "    if manifest_download_list == False:\n",
    "        manifest_for_download = False\n",
    "        print('Please execute the previous part of the pipeline or input your files manually in the data/config.yaml file')\n",
    "    else:\n",
    "        manifest_for_download = [analysis_path+'sample_sheets/manifests/'+i for i in manifest_download_list]\n",
    "    \n",
    "    return manifest_for_download\n",
    "\n",
    "\n",
    "# Download the gdc-client in a new conda environment and run the gdc-client, if accepted\n",
    "def Download_gdc_client():\n",
    "    with open('data/config.yaml', 'r') as streamfile:\n",
    "        config_file = yaml.load(streamfile, Loader=yaml.FullLoader)\n",
    "    \n",
    "    conda_gdc = config_file['conda_gdc']\n",
    "    name_conda_gdc_env = False\n",
    "\n",
    "    if conda_gdc == False:\n",
    "        print('Please execute the TCGA data download in your own environment or '+\n",
    "            'set \"conda_gdc\" in the data/config.yaml file to \"True\" to create a conda environment with the gdc-client')\n",
    "    elif conda_gdc == True:\n",
    "        name_conda_gdc_env = 'gdc_client'\n",
    "    elif conda_gdc == 'First_install':\n",
    "        gdc_client_conda_cmd = shlex.split(f'conda create --name gdc_client --file envs/gdc_client.txt')\n",
    "        subprocess.run(gdc_client_conda_cmd)\n",
    "        \n",
    "        conda_gdc_status_change_cmd = f\"sed -i 's/^conda_gdc: .*/conda_gdc: True/' data/config.yaml\"\n",
    "        subprocess.run(shlex.split(conda_gdc_status_change_cmd))\n",
    "\n",
    "        name_conda_gdc_env = 'gdc_client'\n",
    "    else:\n",
    "        name_conda_gdc_env = conda_gdc\n",
    "    \n",
    "    return name_conda_gdc_env\n",
    "\n",
    "\n",
    "# Prepare commands to download TCGA data, dependent on available user token file\n",
    "def TCGA_Data_Download():\n",
    "    with open('data/config.yaml', 'r') as streamfile:\n",
    "        config_file = yaml.load(streamfile, Loader=yaml.FullLoader)\n",
    "    \n",
    "    tcga_user_token_file = config_file['tcga_user_token_file']\n",
    "    analysis_path = config_file['analysis_path']\n",
    "    raw_data_path = analysis_path + '00_raw_data'\n",
    "\n",
    "    os.makedirs(raw_data_path, exist_ok=True)\n",
    "\n",
    "    manifest_for_download = Create_Manifest_Download_List()\n",
    "\n",
    "    name_conda_gdc_env = Download_gdc_client()\n",
    "\n",
    "    if manifest_for_download == False:\n",
    "        print('No TCGA data are download due to no manifest files.')\n",
    "    elif name_conda_gdc_env == False:\n",
    "        print('No TCGA data are downloaded due to the specifications in the gdc client conda environment.')\n",
    "    else:\n",
    "        for manifest_file in manifest_for_download:\n",
    "            if tcga_user_token_file == False:\n",
    "                print(f'Download TCGA data with TCGA manifest {manifest_file.split(\"/\")[-1]} without TCGA user token')\n",
    "                command_download_tcga_data = f'conda run -n {name_conda_gdc_env} gdc-client download -m {manifest_file}'\n",
    "            else:\n",
    "                print(f'Download TCGA data with TCGA manifest {manifest_file.split(\"/\")[-1]} with TCGA user token file {tcga_user_token_file.split(\"/\")[-1]}')\n",
    "                command_download_tcga_data = f'conda run -n {name_conda_gdc_env} gdc-client download -m {manifest_file} {tcga_user_token_file}'\n",
    "            process = subprocess.Popen(command_download_tcga_data, cwd=raw_data_path, shell=True)\n",
    "            process.wait()\n",
    "\n",
    "TCGA_Data_Download()"
   ]
  },
  {
   "cell_type": "markdown",
   "metadata": {},
   "source": [
    "### Rename the downloaded files as case_id.file_suffix\n",
    "- in manifest only id, filename with 36 different characters\n",
    "- take merged manifest and sample sheet\n",
    "- rename downloaded files and put them in new folders for each analysis"
   ]
  },
  {
   "cell_type": "code",
   "execution_count": 7,
   "metadata": {},
   "outputs": [],
   "source": [
    "# categorize samples for their analysis method\n",
    "method_dict = {'BRASS':'BRASS', 'CaVEMan':'CaVEMan', 'ASCAT':'CNV_segment', 'pindel':'Pindel', 'star_splice':'Splicing', \n",
    "               'star_gene_counts':'STAR_counts'}\n",
    "\n",
    "sample_sheets_merge['Folder'] = ''\n",
    "\n",
    "for met in method_dict.keys():\n",
    "    sample_sheets_merge.loc[sample_sheets_merge['File Name'].str.contains(met), 'Folder'] = method_dict[met]\n",
    "\n",
    "sample_sheets_merge['File Suffix'] = sample_sheets_merge['File Name'].str.split('.', expand=True)[1]\n",
    "\n",
    "sample_sheets_merge['Path_raw'] = analysis_path+'00_raw_data/'+sample_sheets_merge['Folder']+'/'+sample_sheets_merge['File ID']+'/'+sample_sheets_merge['File Name']\n",
    "sample_sheets_merge['Path_sample'] = analysis_path+'01_sample_data/'+sample_sheets_merge['Folder']+'/'+sample_sheets_merge['Case ID']+'.'+sample_sheets_merge['File Suffix']\n",
    "\n"
   ]
  },
  {
   "cell_type": "code",
   "execution_count": null,
   "metadata": {},
   "outputs": [],
   "source": []
  },
  {
   "cell_type": "markdown",
   "metadata": {},
   "source": [
    "### Analyze files\n",
    "- with Snakemake pipeline\n"
   ]
  },
  {
   "cell_type": "code",
   "execution_count": null,
   "metadata": {},
   "outputs": [],
   "source": []
  }
 ],
 "metadata": {
  "kernelspec": {
   "display_name": "Plots",
   "language": "python",
   "name": "python3"
  },
  "language_info": {
   "codemirror_mode": {
    "name": "ipython",
    "version": 3
   },
   "file_extension": ".py",
   "mimetype": "text/x-python",
   "name": "python",
   "nbconvert_exporter": "python",
   "pygments_lexer": "ipython3",
   "version": "3.11.8"
  }
 },
 "nbformat": 4,
 "nbformat_minor": 2
}
