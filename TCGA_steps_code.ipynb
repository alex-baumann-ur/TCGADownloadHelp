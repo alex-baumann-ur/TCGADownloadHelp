{
 "cells": [
  {
   "cell_type": "markdown",
   "metadata": {},
   "source": [
    "# Handling TCGA data\n",
    "### Overall goals\n",
    "- Work with TCGA data (e.g. of a specific study or primary site)\n",
    "- Downoad data (or further data after a while)\n",
    "- Only download data matching specific cases\n",
    "\n",
    "### Filtering and selecting TCGA data\n",
    "- Filter and select TCGA data from the TCGA GDC data portal as explained in \"TCGA_steps_explained.ipynb\"\n",
    "- Do these steps every time for your new analyses, also when you later on have new aspects or file types to consider\n",
    "\n",
    "### Combine manifest with sample sheet, filter for relevant files\n",
    "- Adapt the data/config.yaml\n",
    "- manifest files"
   ]
  },
  {
   "cell_type": "code",
   "execution_count": 16,
   "metadata": {},
   "outputs": [],
   "source": [
    "import pandas as pd\n",
    "import yaml\n",
    "import os\n",
    "\n",
    "# load config file\n",
    "with open('data/config.yaml', 'r') as streamfile:\n",
    "    conf_yaml = yaml.load(streamfile, Loader=yaml.FullLoader)\n",
    "\n",
    "# analysis path\n",
    "analysis_path = conf_yaml['analysis_path']\n",
    "\n",
    "# original (prior) manifest files, merge them\n",
    "manifests = [pd.read_table('sample_sheets/manifests/'+i) for i in conf_yaml['manifests_prior']]\n",
    "manifests_merge = pd.concat(manifests)\n",
    "\n",
    "# original (prior) sample sheets, merge them\n",
    "sample_sheets = [pd.read_table('sample_sheets/prior_sample_sheets/'+i) for i in conf_yaml['sample_sheets_prior']]\n",
    "sample_sheets_merge = pd.concat(sample_sheets)\n",
    "\n",
    "sample_sheets_merge['Case ID'] = sample_sheets_merge['Case ID'].str.split(', ', expand=True)[0]\n"
   ]
  },
  {
   "cell_type": "markdown",
   "metadata": {},
   "source": [
    "- merge manifest and sample sheet\n",
    "- if previous selection of case IDs -> filter for specific case IDs of previous analysis\n",
    "- create adapted filtered manifest file for gdc-client download"
   ]
  },
  {
   "cell_type": "code",
   "execution_count": null,
   "metadata": {},
   "outputs": [],
   "source": []
  },
  {
   "cell_type": "code",
   "execution_count": null,
   "metadata": {},
   "outputs": [],
   "source": []
  },
  {
   "cell_type": "markdown",
   "metadata": {},
   "source": [
    "### Download TCGA data via a manifest document and the GDC-client tool\n",
    "- For restricted access files:\n",
    "    - Login at NIH for restricted access files\n",
    "    - Download access token, save as secured file\n",
    "- Download gdc-client tool\n",
    "\n",
    "```\n",
    "gdc-client download -m manifest.txt -t user-token.txt\n",
    "```\n"
   ]
  },
  {
   "cell_type": "code",
   "execution_count": null,
   "metadata": {},
   "outputs": [],
   "source": [
    "# download raw files into the following folder:\n",
    "\n",
    "analysis_path + '00_raw_data'"
   ]
  },
  {
   "cell_type": "code",
   "execution_count": null,
   "metadata": {},
   "outputs": [],
   "source": []
  },
  {
   "cell_type": "code",
   "execution_count": null,
   "metadata": {},
   "outputs": [],
   "source": []
  },
  {
   "cell_type": "markdown",
   "metadata": {},
   "source": [
    "### Prepare renaming files with sample sheet"
   ]
  },
  {
   "cell_type": "code",
   "execution_count": 7,
   "metadata": {},
   "outputs": [],
   "source": [
    "# categorize samples for their analysis method\n",
    "method_dict = {'BRASS':'BRASS', 'CaVEMan':'CaVEMan', 'ASCAT':'CNV_segment', 'pindel':'Pindel', 'star_splice':'Splicing', \n",
    "               'star_gene_counts':'STAR_counts'}\n",
    "\n",
    "sample_sheets_merge['Folder'] = ''\n",
    "\n",
    "for met in method_dict.keys():\n",
    "    sample_sheets_merge.loc[sample_sheets_merge['File Name'].str.contains(met), 'Folder'] = method_dict[met]\n",
    "\n",
    "sample_sheets_merge['File Suffix'] = sample_sheets_merge['File Name'].str.split('.', expand=True)[1]\n",
    "\n",
    "sample_sheets_merge['Path_raw'] = path_raw_data+sample_sheets_merge['Folder']+'/'+sample_sheets_merge['File ID']+'/'+sample_sheets_merge['File Name']\n",
    "sample_sheets_merge['Path_sample'] = path_sample_data+sample_sheets_merge['Folder']+'/'+sample_sheets_merge['Case ID']+'.'+sample_sheets_merge['File Suffix']\n",
    "\n"
   ]
  },
  {
   "cell_type": "code",
   "execution_count": 18,
   "metadata": {},
   "outputs": [
    {
     "data": {
      "text/plain": [
       "'d9368b67-bd37-475a-810b-f0ec243c4e8f.rna_seq.augmented_star_gene_counts.tsv'"
      ]
     },
     "execution_count": 18,
     "metadata": {},
     "output_type": "execute_result"
    }
   ],
   "source": [
    "sample_sheets_merge.iloc[1000]['File Name']"
   ]
  },
  {
   "cell_type": "code",
   "execution_count": 5,
   "metadata": {},
   "outputs": [
    {
     "data": {
      "text/plain": [
       "dict_keys(['2024-04-08_gdc_sample_sheet_splice_lusc_prior.tsv', '2024-04-08_gdc_sample_sheet_star_counts_lusc_prior.tsv'])"
      ]
     },
     "execution_count": 5,
     "metadata": {},
     "output_type": "execute_result"
    }
   ],
   "source": [
    "sample_sheets.keys()"
   ]
  },
  {
   "cell_type": "code",
   "execution_count": null,
   "metadata": {},
   "outputs": [],
   "source": []
  },
  {
   "cell_type": "markdown",
   "metadata": {},
   "source": [
    "\n",
    "\n",
    "### Download TCGA data via a manifest document and the GDC-client tool\n",
    "\n",
    "### Rename the downloaded files as case_id.file_suffix\n",
    "- in manifest only id, filename with 36 different characters\n",
    "- take merged manifest and sample sheet\n",
    "- rename downloaded files and put them in new folders for each analysis\n",
    "\n",
    "### Analyze files\n",
    "- with Snakemake pipeline\n"
   ]
  },
  {
   "cell_type": "markdown",
   "metadata": {},
   "source": [
    "### Download TCGA data via GDC-client"
   ]
  },
  {
   "cell_type": "code",
   "execution_count": null,
   "metadata": {},
   "outputs": [],
   "source": [
    "import pandas as pd\n",
    "import os\n",
    "import yaml\n",
    "\n",
    "with open('data/config.yaml', 'r') as streamfile:\n",
    "    config_file = yaml.load(streamfile, Loader=yaml.FullLoader)\n",
    "\n",
    "tcga_manifest = 'manifests/2024-04-08_gdc_manifest_star_counts_lusc_prior.txt'\n",
    "tcga_user_token_file = config_file['tcga_user_token_file']\n",
    "\n",
    "if tcga_user_token_file == False:\n",
    "    print(f'Download TCGA data with TCGA manifest {tcga_manifest.split(\"/\")[-1]} without TCGA user token')\n",
    "    command_download_tcga_data = f'gdc-client download -m {tcga_manifest}'\n",
    "else:\n",
    "    print(f'Download TCGA data with TCGA manifest {tcga_manifest.split(\"/\")[-1]} with TCGA user token file {tcga_user_token_file.split(\"/\")[-1]}')\n",
    "    command_download_tcga_data = f'gdc-client download -m {tcga_manifest} -t {tcga_user_token_file}'\n",
    "\n",
    "# os.system(command_download_tcga_data)\n"
   ]
  },
  {
   "cell_type": "code",
   "execution_count": null,
   "metadata": {},
   "outputs": [],
   "source": []
  }
 ],
 "metadata": {
  "kernelspec": {
   "display_name": "Plots",
   "language": "python",
   "name": "python3"
  },
  "language_info": {
   "codemirror_mode": {
    "name": "ipython",
    "version": 3
   },
   "file_extension": ".py",
   "mimetype": "text/x-python",
   "name": "python",
   "nbconvert_exporter": "python",
   "pygments_lexer": "ipython3",
   "version": "3.11.8"
  }
 },
 "nbformat": 4,
 "nbformat_minor": 2
}
